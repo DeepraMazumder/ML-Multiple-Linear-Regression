{
 "cells": [
  {
   "cell_type": "code",
   "execution_count": null,
   "id": "0411e112",
   "metadata": {},
   "outputs": [],
   "source": [
    "# IMPORTING THE LIBRARIES...\n",
    "\n",
    "import numpy as np\n",
    "import pandas as pd"
   ]
  },
  {
   "cell_type": "code",
   "execution_count": null,
   "id": "0d80be5c",
   "metadata": {},
   "outputs": [],
   "source": [
    "# CREATING THE DATASET...\n",
    "\n",
    "[y = b0 + b1x1 + b2x2 + b3x3 + b4x4]\n",
    "from numpy.random import rand\n",
    "df = pd.DataFrame(rand(50,3)*10, columns = 'HOURS_STUDIED HOURS_SLEPT        IQ'.split())\n",
    "df.head(2)\n",
    "from random import choice\n",
    "location = []\n",
    "for i in range(50):\n",
    "    location.append(choice([\"New Delhi\",\"Pune\",\"Bangalore\"]))\n",
    "df['LOCATION'] = location\n",
    "df.head()\n",
    "df['MARKS'] = (1.73 + (3.34*df['HOURS_STUDIED'])\n",
    "                    + (2.45*df['HOURS_SLEPT'])\n",
    "                    + (1.83*df['IQ']))\n",
    "df['MARKS'] = df['MARKS'] +np.random.rand(50)*20             \n",
    "df.to_csv('DATASET.csv',index=False)\n",
    "df.head()"
   ]
  },
  {
   "cell_type": "code",
   "execution_count": null,
   "id": "aa71e972",
   "metadata": {},
   "outputs": [],
   "source": [
    "# IMPORTING THE DATASET...\n",
    "\n",
    "dataset = pd.read_csv('DATASET.csv')\n",
    "X = dataset.iloc[:, :-1].values\n",
    "y = dataset.iloc[:, -1].values\n",
    "print(X)\n",
    "print(y)"
   ]
  },
  {
   "cell_type": "code",
   "execution_count": null,
   "id": "c08b4dce",
   "metadata": {},
   "outputs": [],
   "source": [
    "# ENCODING CATEGORICAL DATA...\n",
    "\n",
    "from sklearn.compose import ColumnTransformer\n",
    "from sklearn.preprocessing import OneHotEncoder\n",
    "ct = ColumnTransformer(transformers=[('encoder', OneHotEncoder(), [3])],  remainder='passthrough')\n",
    "print(ct)\n",
    "X = np.array(ct.fit_transform(X))\n",
    "print(X)"
   ]
  },
  {
   "cell_type": "code",
   "execution_count": null,
   "id": "d61119f7",
   "metadata": {},
   "outputs": [],
   "source": [
    "# SPLITTING THE DATASET INTO THE TRAINING SET AND THE TEST SET...\n",
    "\n",
    "from sklearn.model_selection import train_test_split\n",
    "X_train, X_test, y_train , y_test = train_test_split(X, y, test_size = 0.2, random_state = 0)\n",
    "y_test"
   ]
  },
  {
   "cell_type": "code",
   "execution_count": null,
   "id": "2afe4076",
   "metadata": {},
   "outputs": [],
   "source": [
    "# TRAINING THE MULTIPLE LINEAR REGRESSION MODEL ON THE TRAINING SET...\n",
    "\n",
    "from sklearn.linear_model import LinearRegression\n",
    "regressor = LinearRegression()\n",
    "regressor.fit(X_train, y_train)"
   ]
  },
  {
   "cell_type": "code",
   "execution_count": null,
   "id": "cd10ff75",
   "metadata": {},
   "outputs": [],
   "source": [
    "# PREDICTING THE TEST SET RESULTS...\n",
    "\n",
    "y_pred = regressor.predict(X_test)\n",
    "np.set_printoptions(precision=2)\n",
    "print(\"\\n\\n\\nPREDICTED ACTUAL\")\n",
    "print(np.concatenate((y_pred.reshape(len(y_pred),1), y_test.reshape(len(y_test),1)),1))\n",
    "np.set_printoptions(precision=2)\n",
    "print(np.concatenate((X_test ,y_pred.reshape(len(y_pred),1) ,y_test.reshape(len(y_test),1)) ,1))\n",
    "len(y_pred)\n",
    "y_test\n",
    "y_pred"
   ]
  }
 ],
 "metadata": {
  "kernelspec": {
   "display_name": "Python 3 (ipykernel)",
   "language": "python",
   "name": "python3"
  },
  "language_info": {
   "codemirror_mode": {
    "name": "ipython",
    "version": 3
   },
   "file_extension": ".py",
   "mimetype": "text/x-python",
   "name": "python",
   "nbconvert_exporter": "python",
   "pygments_lexer": "ipython3",
   "version": "3.9.7"
  }
 },
 "nbformat": 4,
 "nbformat_minor": 5
}
